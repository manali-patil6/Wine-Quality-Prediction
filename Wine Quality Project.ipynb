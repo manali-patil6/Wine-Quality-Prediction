{
 "cells": [
  {
   "cell_type": "markdown",
   "metadata": {},
   "source": [
    "# Wine Quality Prediction\n",
    "\n",
    "**Objective :** To try to predict the quality of the wine with the help of features provided.\n",
    "For this project we will be using the following UCI dataset- https://archive.ics.uci.edu/ml/datasets/Wine\n",
    "The dataset is related to red variants of the Portuguese \"Vinho Verde\" wine.\n",
    "\n",
    "Here are the features represented through columns :\n",
    "<br>\n",
    "**Input variables (based on physicochemical tests)**\n",
    "\n",
    "1 - fixed acidity\n",
    "<br>\n",
    "2 - volatile acidity\n",
    "<br>\n",
    "3 - citric acid\n",
    "<br>\n",
    "4 - residual sugar\n",
    "<br>\n",
    "5 - chlorides\n",
    "<br>\n",
    "6 - free sulfur dioxide\n",
    "<br>\n",
    "7 - total sulfur dioxide\n",
    "<br>\n",
    "8 - density\n",
    "<br>\n",
    "9 - pH\n",
    "<br>\n",
    "10 - sulphates\n",
    "<br>\n",
    "11 - alcohol\n",
    "\n",
    "**Output variable (based on sensory data)**\n",
    "\n",
    "12 - quality (score between 0 and 10)\n"
   ]
  },
  {
   "cell_type": "markdown",
   "metadata": {},
   "source": [
    "## Steps :\n",
    "1. Importing Libraries\n",
    "2. Exploring the Dataset\n",
    "3. Exploratory Data Analysis\n",
    "> * Univariate Analysis\n",
    "4. Data Preprocessing\n",
    "5. Model Building\n",
    "> * Random Forest Classifier\n",
    "> * Stochastic Gradient Descent Classifier\n",
    "> * Support Vector Classifier(SVC)\n",
    "6. Validation\n",
    "> * Grid Search CV\n",
    "> * Cross Validation Score\n",
    "7. Conclusion"
   ]
  },
  {
   "cell_type": "markdown",
   "metadata": {},
   "source": [
    "## 1. Import Libraries\n",
    "Import the necessary packages to process or plot the data"
   ]
  },
  {
   "cell_type": "code",
   "execution_count": null,
   "metadata": {},
   "outputs": [],
   "source": []
  },
  {
   "cell_type": "markdown",
   "metadata": {},
   "source": [
    "### Get the Data\n",
    "\n",
    "Use pandas to read winequality-red.csv as a dataframe called wine"
   ]
  },
  {
   "cell_type": "code",
   "execution_count": null,
   "metadata": {},
   "outputs": [],
   "source": []
  },
  {
   "cell_type": "markdown",
   "metadata": {},
   "source": [
    "## 2. Exploring the Dataset"
   ]
  },
  {
   "cell_type": "markdown",
   "metadata": {},
   "source": [
    "**Check distribution of data**\n",
    "<br>\n",
    "Use head() method"
   ]
  },
  {
   "cell_type": "code",
   "execution_count": null,
   "metadata": {},
   "outputs": [],
   "source": []
  },
  {
   "cell_type": "markdown",
   "metadata": {},
   "source": [
    "**Check information about the columns**\n",
    "<br>\n",
    "Use info() method"
   ]
  },
  {
   "cell_type": "code",
   "execution_count": null,
   "metadata": {},
   "outputs": [],
   "source": []
  },
  {
   "cell_type": "markdown",
   "metadata": {},
   "source": [
    "## 3. Exploratory Data Analysis\n",
    "\n",
    "### Univariate Analysis\n",
    "\n",
    "Let's do some data visualization! Feel free to use whatever library you want. \n",
    "\n",
    "Note - Directions for a few plots are given below, we encourage you to explore further for more insights into the data!\n",
    "\n",
    "**Goal : Observe and identify trends in quality as we vary the feature values**"
   ]
  },
  {
   "cell_type": "code",
   "execution_count": 1,
   "metadata": {},
   "outputs": [],
   "source": [
    "#Observe if and how fixed acidity gives any specification to classify the quality.\n",
    "\n"
   ]
  },
  {
   "cell_type": "code",
   "execution_count": 2,
   "metadata": {},
   "outputs": [],
   "source": [
    "#Observe the trend in the volatile acidity as we go higher the quality \n",
    "\n"
   ]
  },
  {
   "cell_type": "code",
   "execution_count": 3,
   "metadata": {},
   "outputs": [],
   "source": [
    "#Study the composition of citric acid go higher as we go higher in the quality of the wine\n",
    "\n"
   ]
  },
  {
   "cell_type": "code",
   "execution_count": 4,
   "metadata": {},
   "outputs": [],
   "source": [
    "#Study the composition of residual sugar go higher as we go higher in the quality of the wine\n",
    "\n"
   ]
  },
  {
   "cell_type": "code",
   "execution_count": 5,
   "metadata": {},
   "outputs": [],
   "source": [
    "#Observe the composition of chloride as we go higher in the quality of the wine\n",
    "\n"
   ]
  },
  {
   "cell_type": "code",
   "execution_count": 6,
   "metadata": {},
   "outputs": [],
   "source": [
    "#Observe the composition of free suplhur dioxide as we go higher in the quality of the wine\n",
    "\n"
   ]
  },
  {
   "cell_type": "code",
   "execution_count": 7,
   "metadata": {},
   "outputs": [],
   "source": [
    "#Observe the composition of total suplhur dioxide as we go higher in the quality of the wine\n",
    "\n"
   ]
  },
  {
   "cell_type": "code",
   "execution_count": 8,
   "metadata": {},
   "outputs": [],
   "source": [
    "#Observe sulphates level with respect to varying quality of wine\n",
    "\n"
   ]
  },
  {
   "cell_type": "code",
   "execution_count": 9,
   "metadata": {},
   "outputs": [],
   "source": [
    "#Find out the effecct of alcohol level on quality\n",
    "\n"
   ]
  },
  {
   "cell_type": "markdown",
   "metadata": {},
   "source": [
    "## 4. Data Preprocessing"
   ]
  },
  {
   "cell_type": "markdown",
   "metadata": {},
   "source": [
    "Notice that the quality column has entries between 0 - 10. <br>\n",
    "**We need to divide the samples into categories 'good' and 'bad' according to a self defined limit for the categories.**\n",
    "\n",
    "We will do this by using pd.cut as follows : <br>\n",
    "**data_column = pd.cut(data_column, bins, labels)**\n"
   ]
  },
  {
   "cell_type": "code",
   "execution_count": 10,
   "metadata": {},
   "outputs": [],
   "source": [
    "bins = (2, 6.5, 8)\n",
    "\n",
    "#create a list named group_names containing 2 strings : 'good' and 'bad'\n",
    "\n",
    "\n",
    "#Use pd.cut() on the quality column and set bins to bins and labels to group_names \n",
    "\n"
   ]
  },
  {
   "cell_type": "markdown",
   "metadata": {},
   "source": [
    "Now lets assign labels to our quality variable using **LabelEncoder**"
   ]
  },
  {
   "cell_type": "code",
   "execution_count": 11,
   "metadata": {},
   "outputs": [],
   "source": [
    "#Import LabelEncoder and create an instance named label_quality\n",
    "\n"
   ]
  },
  {
   "cell_type": "code",
   "execution_count": 12,
   "metadata": {},
   "outputs": [],
   "source": [
    "#Use .fit_transform method to fit label_quality to the 'quality' column and return encoded labels\n",
    "#Bad becomes 0 and good becomes 1 \n",
    "\n"
   ]
  },
  {
   "cell_type": "code",
   "execution_count": 13,
   "metadata": {},
   "outputs": [],
   "source": [
    "#Use .value_counts method on the 'quality' column to find out category size for both.\n",
    "\n"
   ]
  },
  {
   "cell_type": "code",
   "execution_count": 14,
   "metadata": {},
   "outputs": [],
   "source": [
    "#Print out a countplot for the 'quality' column\n",
    "\n"
   ]
  },
  {
   "cell_type": "markdown",
   "metadata": {},
   "source": [
    "**Now seperate the dataset as response variable and feature variabes**"
   ]
  },
  {
   "cell_type": "code",
   "execution_count": 15,
   "metadata": {},
   "outputs": [],
   "source": [
    "#Set the 'quality' column to y\n",
    "#Drop the 'quality' column from the dataframe and set the remaining dataframe to X\n",
    "\n"
   ]
  },
  {
   "cell_type": "markdown",
   "metadata": {},
   "source": [
    "**Train Test Split**"
   ]
  },
  {
   "cell_type": "code",
   "execution_count": 16,
   "metadata": {},
   "outputs": [],
   "source": [
    "#Import train_test_split\n",
    "\n",
    "\n",
    "#Split the data with parameter test_size = 0.2\n",
    "\n"
   ]
  },
  {
   "cell_type": "markdown",
   "metadata": {},
   "source": [
    "** Let's apply standard scaling to get optimized result"
   ]
  },
  {
   "cell_type": "code",
   "execution_count": 17,
   "metadata": {},
   "outputs": [],
   "source": [
    "#import StandardScaler\n",
    "\n",
    "\n",
    "#Create an instance of StandardScaler called sc\n",
    "\n",
    "\n",
    "#Use .fit_transform on sc for both, X_train and X_test\n",
    "\n"
   ]
  },
  {
   "cell_type": "markdown",
   "metadata": {},
   "source": [
    "## 5. Model Building"
   ]
  },
  {
   "cell_type": "markdown",
   "metadata": {},
   "source": [
    "### Random Forest Classifier"
   ]
  },
  {
   "cell_type": "markdown",
   "metadata": {},
   "source": [
    "**Import RandomForestClassifier**"
   ]
  },
  {
   "cell_type": "code",
   "execution_count": null,
   "metadata": {},
   "outputs": [],
   "source": []
  },
  {
   "cell_type": "markdown",
   "metadata": {},
   "source": [
    "**Create an instance of RandomForestClassifier() called rfc and fit it to the training data.**"
   ]
  },
  {
   "cell_type": "code",
   "execution_count": null,
   "metadata": {},
   "outputs": [],
   "source": []
  },
  {
   "cell_type": "markdown",
   "metadata": {},
   "source": [
    "**Create predictions from the test set and name the result pred_rfc**"
   ]
  },
  {
   "cell_type": "code",
   "execution_count": null,
   "metadata": {},
   "outputs": [],
   "source": []
  },
  {
   "cell_type": "markdown",
   "metadata": {},
   "source": [
    "**Let's see how our model performed!**"
   ]
  },
  {
   "cell_type": "code",
   "execution_count": 18,
   "metadata": {},
   "outputs": [],
   "source": [
    "#create a classification report and confusion matrix\n"
   ]
  },
  {
   "cell_type": "markdown",
   "metadata": {},
   "source": [
    "Note the accuracy"
   ]
  },
  {
   "cell_type": "markdown",
   "metadata": {},
   "source": [
    "### Stochastic Gradient Descent Classifier"
   ]
  },
  {
   "cell_type": "code",
   "execution_count": 19,
   "metadata": {},
   "outputs": [],
   "source": [
    "#Import SGDClassifier\n",
    "\n",
    "\n",
    "#Create an instance of SGDClassifier() called sgd and fit it to the training data.\n",
    "\n",
    "\n",
    "#Create predictions from the test set and name the result pred_sgd\n",
    "\n"
   ]
  },
  {
   "cell_type": "code",
   "execution_count": 20,
   "metadata": {},
   "outputs": [],
   "source": [
    "#create a classification report and confusion matrix\n",
    "\n"
   ]
  },
  {
   "cell_type": "markdown",
   "metadata": {},
   "source": [
    "Note the accuracy"
   ]
  },
  {
   "cell_type": "markdown",
   "metadata": {},
   "source": [
    "### Support Vector Classifier"
   ]
  },
  {
   "cell_type": "code",
   "execution_count": 21,
   "metadata": {},
   "outputs": [],
   "source": [
    "#Import SVC\n",
    "\n",
    "\n",
    "#Create an instance of SVC() called svc and fit it to the training data.\n",
    "\n",
    "\n",
    "#Create predictions from the test set and name the result pred_svc\n",
    "\n"
   ]
  },
  {
   "cell_type": "code",
   "execution_count": 22,
   "metadata": {},
   "outputs": [],
   "source": [
    "#create a classification report and confusion matrix\n",
    "\n"
   ]
  },
  {
   "cell_type": "markdown",
   "metadata": {},
   "source": [
    "Note the accuracy"
   ]
  },
  {
   "cell_type": "markdown",
   "metadata": {},
   "source": [
    "## 6. Validation\n",
    "Let's try to increase our accuracy of models\n",
    "\n",
    "### Grid Search CV for SVC"
   ]
  },
  {
   "cell_type": "code",
   "execution_count": 23,
   "metadata": {},
   "outputs": [],
   "source": [
    "#import GridSearchCV\n",
    "\n",
    "\n",
    "#Finding best parameters for our SVC model\n",
    "param = {\n",
    "    'C': [0.1,0.8,0.9,1,1.1,1.2,1.3,1.4],\n",
    "    'kernel':['linear', 'rbf'],\n",
    "    'gamma' :[0.1,0.8,0.9,1,1.1,1.2,1.3,1.4]\n",
    "}\n",
    "\n",
    "#Create an instance of GridSearchCV() and input svc as the data parameter\n",
    "\n"
   ]
  },
  {
   "cell_type": "code",
   "execution_count": 24,
   "metadata": {},
   "outputs": [],
   "source": [
    "#fit grid_svc to the training data\n",
    "\n"
   ]
  },
  {
   "cell_type": "code",
   "execution_count": 25,
   "metadata": {},
   "outputs": [],
   "source": [
    "#Use grid_svc.best_params_ to find the best parameters for our svc model\n",
    "\n"
   ]
  },
  {
   "cell_type": "code",
   "execution_count": 26,
   "metadata": {},
   "outputs": [],
   "source": [
    "#Let's run our SVC again with the best parameters. Create a new instance called svc2 with the above found parameters\n",
    "\n",
    "\n",
    "#fit svc2 to the training data\n",
    "\n",
    "\n",
    "#Create predictions from the test set and name the result pred_svc2\n",
    "\n",
    "\n",
    "##create a classification report \n"
   ]
  },
  {
   "cell_type": "markdown",
   "metadata": {},
   "source": [
    "Observe if there is any improvement in the accuracy of the SVC"
   ]
  },
  {
   "cell_type": "markdown",
   "metadata": {},
   "source": [
    "### Cross Validation Score for RFC\n"
   ]
  },
  {
   "cell_type": "code",
   "execution_count": 27,
   "metadata": {},
   "outputs": [],
   "source": [
    "#import cross_val_score\n",
    "\n",
    "\n",
    "#create an instance of cross_val_score called rfc_eval and use rfc to fit the training data. \n",
    "\n",
    "\n",
    "#Calculate mean for rfc_eval. This is your new accuracy\n",
    "\n"
   ]
  },
  {
   "cell_type": "markdown",
   "metadata": {},
   "source": [
    "Observe if there is any improvement in the accuracy of rfc"
   ]
  },
  {
   "cell_type": "markdown",
   "metadata": {},
   "source": [
    "## 7. Conclusion\n",
    "\n",
    "Compare the all rounded performances of various models and impact of cross validation techniques"
   ]
  }
 ],
 "metadata": {
  "kernelspec": {
   "display_name": "Python 3",
   "language": "python",
   "name": "python3"
  },
  "language_info": {
   "codemirror_mode": {
    "name": "ipython",
    "version": 3
   },
   "file_extension": ".py",
   "mimetype": "text/x-python",
   "name": "python",
   "nbconvert_exporter": "python",
   "pygments_lexer": "ipython3",
   "version": "3.7.3"
  }
 },
 "nbformat": 4,
 "nbformat_minor": 2
}
